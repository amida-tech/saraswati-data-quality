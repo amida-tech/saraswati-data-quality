{
 "cells": [
  {
   "cell_type": "code",
   "execution_count": 44,
   "metadata": {},
   "outputs": [
    {
     "name": "stdout",
     "output_type": "stream",
     "text": [
      "successfully imported\n"
     ]
    },
    {
     "name": "stderr",
     "output_type": "stream",
     "text": [
      "/usr/local/lib/python3.7/site-packages/ipykernel_launcher.py:8: FutureWarning: Passing a negative integer is deprecated in version 1.0 and will not be supported in future version. Instead, use None to not limit the column width.\n",
      "  \n"
     ]
    }
   ],
   "source": [
    "import pandas as pd \n",
    "import os\n",
    "import xmltodict\n",
    "import numpy as np\n",
    "import xml.etree.ElementTree as etree\n",
    "from collections import OrderedDict\n",
    "pd.options.display.max_rows  = 500\n",
    "pd.options.display.max_colwidth = -1\n",
    "print(\"successfully imported\")"
   ]
  },
  {
   "cell_type": "code",
   "execution_count": 45,
   "metadata": {},
   "outputs": [],
   "source": [
    "tree = etree.parse(\"/Users/jamesz/dev/saraswati-data-quality/sample_CDA/C-CDA_R2-1_CCD.xml\")\n",
    "root = tree.getroot()\n",
    "\n",
    "def flatten_dict(d):\n",
    "    def items():\n",
    "        for key, value in d.items():\n",
    "            if isinstance(value, dict):\n",
    "                for subkey, subvalue in flatten_dict(value).items():\n",
    "                    yield key + \".\" + subkey, subvalue\n",
    "            else:\n",
    "                yield key, value\n",
    "    return OrderedDict(items())\n",
    "\n",
    "def flatten_dict_detailed(d):\n",
    "    def items():\n",
    "        for key, value in d.items():\n",
    "            if isinstance(value, dict):\n",
    "                for i, (subkey, subvalue) in enumerate(flatten_dict_detailed(value).items()):\n",
    "                    yield key + f\"{i}\" + \".\" + subkey, subvalue\n",
    "            elif isinstance(value, list):\n",
    "                for i, val in enumerate(value):\n",
    "                    if isinstance(val, str):\n",
    "                        yield key + f'{i}', val\n",
    "                    if isinstance(val, dict):\n",
    "                        for subkey, subvalue in flatten_dict_detailed(val).items():\n",
    "                            yield key + f'{i}' + \".\" + subkey, subvalue\n",
    "                    if isinstance(val, list):\n",
    "                        yield flatten_dict_detailed(val)\n",
    "            else:\n",
    "                yield key, value\n",
    "    \n",
    "    return OrderedDict(items())\n",
    "\n",
    "# Convert XML to dict\n",
    "#TODO: create better CCD ingestion \n",
    "with open('/Users/jamesz/dev/saraswati-data-quality/sample_CDA/C-CDA_R2-1_CCD.xml', 'rb') as f:\n",
    "    xml_content = xmltodict.parse(f)\n",
    "\n",
    "# Flatten dict\n",
    "flattened_xml = flatten_dict(xml_content)\n",
    "agg = []\n",
    "\n",
    "# Print in desired format\n",
    "for k,v in flattened_xml.items():\n",
    "    agg.append((k,v))\n",
    "    \n",
    "flattened_df = pd.DataFrame(agg, columns = ['tags', 'value'])\n"
   ]
  },
  {
   "cell_type": "code",
   "execution_count": 46,
   "metadata": {},
   "outputs": [],
   "source": [
    "def CCDAIngest(filepath):\n",
    "    with open(filepath, 'rb') as f:\n",
    "        xml_content = xmltodict.parse(f)\n",
    "    flattened_xml = flatten_dict(xml_content)\n",
    "    agg = []\n",
    "    for k,v in flattened_xml.items():\n",
    "        agg.append((k,v))\n",
    "    flattened_df = pd.DataFrame(agg, columns=['tag', 'value'])\n",
    "    return flattened_df\n",
    "\n",
    "def get_components(CCDA, nested_indexes, key='tag'):\n",
    "    nested_ccda_df = CCDA.loc[nested_indexes]\n",
    "    index = nested_ccda_df[nested_ccda_df[key].str.contains('component')].index\n",
    "    return nested_ccda_df.loc[index[0]].value\n"
   ]
  },
  {
   "cell_type": "code",
   "execution_count": 47,
   "metadata": {},
   "outputs": [],
   "source": [
    "df = CCDAIngest(\"/Users/jamesz/dev/saraswati-data-quality/sample_CDA/C-CDA_R2-1_CCD.xml\")"
   ]
  },
  {
   "cell_type": "code",
   "execution_count": 48,
   "metadata": {},
   "outputs": [
    {
     "data": {
      "text/html": [
       "<div>\n",
       "<style scoped>\n",
       "    .dataframe tbody tr th:only-of-type {\n",
       "        vertical-align: middle;\n",
       "    }\n",
       "\n",
       "    .dataframe tbody tr th {\n",
       "        vertical-align: top;\n",
       "    }\n",
       "\n",
       "    .dataframe thead th {\n",
       "        text-align: right;\n",
       "    }\n",
       "</style>\n",
       "<table border=\"1\" class=\"dataframe\">\n",
       "  <thead>\n",
       "    <tr style=\"text-align: right;\">\n",
       "      <th></th>\n",
       "      <th>tags</th>\n",
       "      <th>value</th>\n",
       "    </tr>\n",
       "  </thead>\n",
       "  <tbody>\n",
       "    <tr>\n",
       "      <th>0</th>\n",
       "      <td>ClinicalDocument.@xmlns</td>\n",
       "      <td>urn:hl7-org:v3</td>\n",
       "    </tr>\n",
       "    <tr>\n",
       "      <th>1</th>\n",
       "      <td>ClinicalDocument.@xmlns:xsi</td>\n",
       "      <td>http://www.w3.org/2001/XMLSchema-instance</td>\n",
       "    </tr>\n",
       "    <tr>\n",
       "      <th>2</th>\n",
       "      <td>ClinicalDocument.@xmlns:voc</td>\n",
       "      <td>urn:hl7-org:v3/voc</td>\n",
       "    </tr>\n",
       "    <tr>\n",
       "      <th>3</th>\n",
       "      <td>ClinicalDocument.@xmlns:sdtc</td>\n",
       "      <td>urn:hl7-org:sdtc</td>\n",
       "    </tr>\n",
       "    <tr>\n",
       "      <th>4</th>\n",
       "      <td>ClinicalDocument.realmCode.@code</td>\n",
       "      <td>US</td>\n",
       "    </tr>\n",
       "    <tr>\n",
       "      <th>5</th>\n",
       "      <td>ClinicalDocument.typeId.@extension</td>\n",
       "      <td>POCD_HD000040</td>\n",
       "    </tr>\n",
       "    <tr>\n",
       "      <th>6</th>\n",
       "      <td>ClinicalDocument.typeId.@root</td>\n",
       "      <td>2.16.840.1.113883.1.3</td>\n",
       "    </tr>\n",
       "    <tr>\n",
       "      <th>7</th>\n",
       "      <td>ClinicalDocument.templateId</td>\n",
       "      <td>[{'@root': '2.16.840.1.113883.10.20.22.1.2', '@extension': '2015-08-01'}, {'@root': '2.16.840.1.113883.10.20.22.1.2'}]</td>\n",
       "    </tr>\n",
       "    <tr>\n",
       "      <th>8</th>\n",
       "      <td>ClinicalDocument.id.@extension</td>\n",
       "      <td>TT988</td>\n",
       "    </tr>\n",
       "    <tr>\n",
       "      <th>9</th>\n",
       "      <td>ClinicalDocument.id.@root</td>\n",
       "      <td>2.16.840.1.113883.19.5.99999.1</td>\n",
       "    </tr>\n",
       "  </tbody>\n",
       "</table>\n",
       "</div>"
      ],
      "text/plain": [
       "                                 tags  \\\n",
       "0  ClinicalDocument.@xmlns              \n",
       "1  ClinicalDocument.@xmlns:xsi          \n",
       "2  ClinicalDocument.@xmlns:voc          \n",
       "3  ClinicalDocument.@xmlns:sdtc         \n",
       "4  ClinicalDocument.realmCode.@code     \n",
       "5  ClinicalDocument.typeId.@extension   \n",
       "6  ClinicalDocument.typeId.@root        \n",
       "7  ClinicalDocument.templateId          \n",
       "8  ClinicalDocument.id.@extension       \n",
       "9  ClinicalDocument.id.@root            \n",
       "\n",
       "                                                                                                                    value  \n",
       "0  urn:hl7-org:v3                                                                                                          \n",
       "1  http://www.w3.org/2001/XMLSchema-instance                                                                               \n",
       "2  urn:hl7-org:v3/voc                                                                                                      \n",
       "3  urn:hl7-org:sdtc                                                                                                        \n",
       "4  US                                                                                                                      \n",
       "5  POCD_HD000040                                                                                                           \n",
       "6  2.16.840.1.113883.1.3                                                                                                   \n",
       "7  [{'@root': '2.16.840.1.113883.10.20.22.1.2', '@extension': '2015-08-01'}, {'@root': '2.16.840.1.113883.10.20.22.1.2'}]  \n",
       "8  TT988                                                                                                                   \n",
       "9  2.16.840.1.113883.19.5.99999.1                                                                                          "
      ]
     },
     "execution_count": 48,
     "metadata": {},
     "output_type": "execute_result"
    }
   ],
   "source": [
    "#@ = attribute\n",
    "#. = next node\n",
    "flattened_df.head(10)"
   ]
  },
  {
   "cell_type": "code",
   "execution_count": 49,
   "metadata": {},
   "outputs": [],
   "source": [
    "#Find indexes where value is not string\n",
    "nested_indexes = []\n",
    "for i, val in enumerate(flattened_df.value):\n",
    "    if type(val) == list:\n",
    "        nested_indexes.append(i)"
   ]
  },
  {
   "cell_type": "code",
   "execution_count": 50,
   "metadata": {},
   "outputs": [
    {
     "data": {
      "text/plain": [
       "(9, 2)"
      ]
     },
     "execution_count": 50,
     "metadata": {},
     "output_type": "execute_result"
    }
   ],
   "source": [
    "flattened_df.loc[nested_indexes].shape"
   ]
  },
  {
   "cell_type": "code",
   "execution_count": 51,
   "metadata": {},
   "outputs": [],
   "source": [
    "#flattened_df.loc[nested_indexes]"
   ]
  },
  {
   "cell_type": "code",
   "execution_count": 52,
   "metadata": {},
   "outputs": [],
   "source": [
    "#hard coding for now\n",
    "informant = pd.DataFrame(flattened_df.loc[131].value)\n",
    "participant = pd.DataFrame(flattened_df.loc[186].value)\n",
    "components = pd.DataFrame(flattened_df.loc[223].value)"
   ]
  },
  {
   "cell_type": "code",
   "execution_count": 53,
   "metadata": {},
   "outputs": [
    {
     "data": {
      "text/plain": [
       "(15, 1)"
      ]
     },
     "execution_count": 53,
     "metadata": {},
     "output_type": "execute_result"
    }
   ],
   "source": [
    "#each row is another component (allergies, advance directives etc.)\n",
    "components.shape"
   ]
  },
  {
   "cell_type": "code",
   "execution_count": 54,
   "metadata": {},
   "outputs": [],
   "source": [
    "#immunizations section\n",
    "Immunizations = flatten_dict(components.section[5])\n",
    "Immunizations_df = pd.DataFrame(flatten_dict_detailed(Immunizations).items(), columns = ['tag', 'value'])"
   ]
  },
  {
   "cell_type": "code",
   "execution_count": 55,
   "metadata": {},
   "outputs": [
    {
     "data": {
      "text/html": [
       "<div>\n",
       "<style scoped>\n",
       "    .dataframe tbody tr th:only-of-type {\n",
       "        vertical-align: middle;\n",
       "    }\n",
       "\n",
       "    .dataframe tbody tr th {\n",
       "        vertical-align: top;\n",
       "    }\n",
       "\n",
       "    .dataframe thead th {\n",
       "        text-align: right;\n",
       "    }\n",
       "</style>\n",
       "<table border=\"1\" class=\"dataframe\">\n",
       "  <thead>\n",
       "    <tr style=\"text-align: right;\">\n",
       "      <th></th>\n",
       "      <th>tag</th>\n",
       "      <th>value</th>\n",
       "    </tr>\n",
       "  </thead>\n",
       "  <tbody>\n",
       "    <tr>\n",
       "      <th>107</th>\n",
       "      <td>entry1.substanceAdministration6.id0.@root</td>\n",
       "      <td>e6f1ba43-c0ed-4b9b-9f12-f435d8ad8f92</td>\n",
       "    </tr>\n",
       "    <tr>\n",
       "      <th>127</th>\n",
       "      <td>entry1.substanceAdministration26.performer0.assignedEntity0.id0.@root</td>\n",
       "      <td>2.16.840.1.113883.19.5.9999.456</td>\n",
       "    </tr>\n",
       "    <tr>\n",
       "      <th>138</th>\n",
       "      <td>entry1.substanceAdministration37.performer11.assignedEntity11.representedOrganization0.id0.@root</td>\n",
       "      <td>2.16.840.1.113883.19.5.9999.1394</td>\n",
       "    </tr>\n",
       "    <tr>\n",
       "      <th>168</th>\n",
       "      <td>entry2.substanceAdministration6.id0.@root</td>\n",
       "      <td>e6f1ba43-c0ed-4b9b-9f12-f435d8ad8f92</td>\n",
       "    </tr>\n",
       "    <tr>\n",
       "      <th>188</th>\n",
       "      <td>entry2.substanceAdministration26.performer0.assignedEntity0.id0.@root</td>\n",
       "      <td>2.16.840.1.113883.19.5.9999.456</td>\n",
       "    </tr>\n",
       "    <tr>\n",
       "      <th>199</th>\n",
       "      <td>entry2.substanceAdministration37.performer11.assignedEntity11.representedOrganization0.id0.@root</td>\n",
       "      <td>2.16.840.1.113883.19.5.9999.1394</td>\n",
       "    </tr>\n",
       "    <tr>\n",
       "      <th>233</th>\n",
       "      <td>entry3.substanceAdministration6.id0.@root</td>\n",
       "      <td>e6f1ba43-c0ed-4b9b-9f12-f435d8ad8f92</td>\n",
       "    </tr>\n",
       "    <tr>\n",
       "      <th>253</th>\n",
       "      <td>entry3.substanceAdministration26.performer0.assignedEntity0.id0.@root</td>\n",
       "      <td>2.16.840.1.113883.19.5.9999.456</td>\n",
       "    </tr>\n",
       "    <tr>\n",
       "      <th>264</th>\n",
       "      <td>entry3.substanceAdministration37.performer11.assignedEntity11.representedOrganization0.id0.@root</td>\n",
       "      <td>2.16.840.1.113883.19.5.9999.1394</td>\n",
       "    </tr>\n",
       "    <tr>\n",
       "      <th>302</th>\n",
       "      <td>entry4.substanceAdministration22.performer0.assignedEntity0.id0.@root</td>\n",
       "      <td>2.16.840.1.113883.19.5.9999.456</td>\n",
       "    </tr>\n",
       "    <tr>\n",
       "      <th>313</th>\n",
       "      <td>entry4.substanceAdministration33.performer11.assignedEntity11.representedOrganization0.id0.@root</td>\n",
       "      <td>2.16.840.1.113883.19.5.9999.1394</td>\n",
       "    </tr>\n",
       "  </tbody>\n",
       "</table>\n",
       "</div>"
      ],
      "text/plain": [
       "                                                                                                  tag  \\\n",
       "107  entry1.substanceAdministration6.id0.@root                                                          \n",
       "127  entry1.substanceAdministration26.performer0.assignedEntity0.id0.@root                              \n",
       "138  entry1.substanceAdministration37.performer11.assignedEntity11.representedOrganization0.id0.@root   \n",
       "168  entry2.substanceAdministration6.id0.@root                                                          \n",
       "188  entry2.substanceAdministration26.performer0.assignedEntity0.id0.@root                              \n",
       "199  entry2.substanceAdministration37.performer11.assignedEntity11.representedOrganization0.id0.@root   \n",
       "233  entry3.substanceAdministration6.id0.@root                                                          \n",
       "253  entry3.substanceAdministration26.performer0.assignedEntity0.id0.@root                              \n",
       "264  entry3.substanceAdministration37.performer11.assignedEntity11.representedOrganization0.id0.@root   \n",
       "302  entry4.substanceAdministration22.performer0.assignedEntity0.id0.@root                              \n",
       "313  entry4.substanceAdministration33.performer11.assignedEntity11.representedOrganization0.id0.@root   \n",
       "\n",
       "                                    value  \n",
       "107  e6f1ba43-c0ed-4b9b-9f12-f435d8ad8f92  \n",
       "127  2.16.840.1.113883.19.5.9999.456       \n",
       "138  2.16.840.1.113883.19.5.9999.1394      \n",
       "168  e6f1ba43-c0ed-4b9b-9f12-f435d8ad8f92  \n",
       "188  2.16.840.1.113883.19.5.9999.456       \n",
       "199  2.16.840.1.113883.19.5.9999.1394      \n",
       "233  e6f1ba43-c0ed-4b9b-9f12-f435d8ad8f92  \n",
       "253  2.16.840.1.113883.19.5.9999.456       \n",
       "264  2.16.840.1.113883.19.5.9999.1394      \n",
       "302  2.16.840.1.113883.19.5.9999.456       \n",
       "313  2.16.840.1.113883.19.5.9999.1394      "
      ]
     },
     "execution_count": 55,
     "metadata": {},
     "output_type": "execute_result"
    }
   ],
   "source": [
    "df = Immunizations_df[Immunizations_df.tag.str.contains('id[0-9].@root', regex=True)]\n",
    "df[df.duplicated(subset='value')]"
   ]
  },
  {
   "cell_type": "code",
   "execution_count": 56,
   "metadata": {},
   "outputs": [
    {
     "data": {
      "text/plain": [
       "('IMMUNIZATIONS', 'True')"
      ]
     },
     "execution_count": 56,
     "metadata": {},
     "output_type": "execute_result"
    }
   ],
   "source": [
    "def check_duplicates_ids(df, tag_column='tag', value_column='value', regex='id[0-9].@root'):\n",
    "    new_df = df[df[tag_column].str.contains(regex, regex=True)]\n",
    "    title = df.loc[df['tag'] == 'title', 'value'].values[0]\n",
    "    duplicated = new_df[new_df.duplicated(subset=value_column)]\n",
    "    if not duplicated.empty:\n",
    "        return (title, \"True\")\n",
    "    else:\n",
    "        return (title, \"False\")\n",
    "\n",
    "check_duplicates_ids(Immunizations_df)"
   ]
  },
  {
   "cell_type": "code",
   "execution_count": 57,
   "metadata": {
    "scrolled": true
   },
   "outputs": [],
   "source": [
    "duplicated = []\n",
    "for x in components['section']:\n",
    "    this_df = pd.DataFrame(flatten_dict_detailed(flatten_dict(x)).items(), columns = ['tag', 'value'])\n",
    "    duplicated.append(check_duplicates_ids(this_df))\n",
    "    "
   ]
  },
  {
   "cell_type": "code",
   "execution_count": null,
   "metadata": {},
   "outputs": [],
   "source": []
  }
 ],
 "metadata": {
  "kernelspec": {
   "display_name": "Python 3",
   "language": "python",
   "name": "python3"
  },
  "language_info": {
   "codemirror_mode": {
    "name": "ipython",
    "version": 3
   },
   "file_extension": ".py",
   "mimetype": "text/x-python",
   "name": "python",
   "nbconvert_exporter": "python",
   "pygments_lexer": "ipython3",
   "version": "3.7.4"
  }
 },
 "nbformat": 4,
 "nbformat_minor": 2
}
