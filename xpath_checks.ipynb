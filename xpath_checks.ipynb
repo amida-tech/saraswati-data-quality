{
 "cells": [
  {
   "cell_type": "code",
   "execution_count": 6,
   "metadata": {},
   "outputs": [],
   "source": [
    "import xml.etree.ElementTree as etree"
   ]
  },
  {
   "cell_type": "code",
   "execution_count": 18,
   "metadata": {},
   "outputs": [],
   "source": [
    "tree = etree.parse(\"/Users/jamesz/dev/saraswati-data-quality/sample_CDA/C-CDA_R2-1_CCD.xml\")\n",
    "root = tree.getroot()"
   ]
  },
  {
   "cell_type": "code",
   "execution_count": 88,
   "metadata": {},
   "outputs": [],
   "source": [
    "component = root.find('{urn:hl7-org:v3}component/{urn:hl7-org:v3}structuredBody')"
   ]
  },
  {
   "cell_type": "code",
   "execution_count": 156,
   "metadata": {},
   "outputs": [
    {
     "name": "stdout",
     "output_type": "stream",
     "text": [
      "{urn:hl7-org:v3}title FAMILY HISTORY\n",
      "<Element '{urn:hl7-org:v3}id' at 0x10feed590> {'root': 'd42ebf70-5c89-11db-b0de-0855200c9a66'}\n",
      "<Element '{urn:hl7-org:v3}id' at 0x10feedad0> {'root': 'd42ebf70-5c89-11db-b0de-0800200c9a66'}\n",
      "<Element '{urn:hl7-org:v3}id' at 0x10feede90> {'root': '6898fae0-5c8a-11db-b0de-0800200c9a66'}\n",
      "<Element '{urn:hl7-org:v3}id' at 0x10fef3470> {'root': '5bfe3ec0-5c8b-11db-b0de-0800200c9a66'}\n"
     ]
    }
   ],
   "source": [
    "for i, child in enumerate(component):\n",
    "    if i == 3:\n",
    "        for subchild in child.iter():\n",
    "            if subchild.tag == '{urn:hl7-org:v3}title':\n",
    "                print(subchild.tag, subchild.text)\n",
    "            if subchild.tag == '{urn:hl7-org:v3}id':\n",
    "                print(subchild, subchild.attrib)"
   ]
  },
  {
   "cell_type": "code",
   "execution_count": 80,
   "metadata": {},
   "outputs": [],
   "source": [
    "def check_duplicates(listofids):\n",
    "    if len(listofids) == len(set(listofids)):\n",
    "        return False\n",
    "    else:\n",
    "        return True"
   ]
  },
  {
   "cell_type": "code",
   "execution_count": 148,
   "metadata": {},
   "outputs": [
    {
     "name": "stdout",
     "output_type": "stream",
     "text": [
      "ERROR {urn:hl7-org:v3}id {'nullFlavor': 'NI'}\n"
     ]
    }
   ],
   "source": [
    "output = []\n",
    "for i, child in enumerate(component):\n",
    "    ids = []\n",
    "    for subchild in child.iter():\n",
    "        if subchild.tag == '{urn:hl7-org:v3}title':\n",
    "            title = subchild.text\n",
    "        if subchild.tag == '{urn:hl7-org:v3}id':\n",
    "            if 'root' in subchild.attrib:\n",
    "                ids.append(subchild.attrib['root'])\n",
    "            else: \n",
    "                print(\"ERROR\", subchild.tag, subchild.attrib)\n",
    "    try:\n",
    "        output.append((title, check_duplicates(ids)))\n",
    "    except:\n",
    "        print(\"error with\", i)"
   ]
  },
  {
   "cell_type": "code",
   "execution_count": 149,
   "metadata": {},
   "outputs": [
    {
     "data": {
      "text/plain": [
       "[('ADVANCE DIRECTIVES', True),\n",
       " ('ALLERGIES AND ADVERSE REACTIONS', True),\n",
       " ('ENCOUNTERS', False),\n",
       " ('FAMILY HISTORY', False),\n",
       " ('FUNCTIONAL STATUS', True),\n",
       " ('IMMUNIZATIONS', True),\n",
       " ('MEDICAL EQUIPMENT', True),\n",
       " ('MEDICATIONS', True),\n",
       " ('INSURANCE PROVIDERS', True),\n",
       " ('TREATMENT PLAN', True),\n",
       " ('PROBLEMS', True),\n",
       " ('PROCEDURES', True),\n",
       " ('RESULTS', True),\n",
       " ('SOCIAL HISTORY', True),\n",
       " ('VITAL SIGNS', True)]"
      ]
     },
     "execution_count": 149,
     "metadata": {},
     "output_type": "execute_result"
    }
   ],
   "source": [
    "output"
   ]
  },
  {
   "cell_type": "code",
   "execution_count": null,
   "metadata": {},
   "outputs": [],
   "source": []
  },
  {
   "cell_type": "code",
   "execution_count": null,
   "metadata": {},
   "outputs": [],
   "source": []
  }
 ],
 "metadata": {
  "kernelspec": {
   "display_name": "Python 3",
   "language": "python",
   "name": "python3"
  },
  "language_info": {
   "codemirror_mode": {
    "name": "ipython",
    "version": 3
   },
   "file_extension": ".py",
   "mimetype": "text/x-python",
   "name": "python",
   "nbconvert_exporter": "python",
   "pygments_lexer": "ipython3",
   "version": "3.7.4"
  }
 },
 "nbformat": 4,
 "nbformat_minor": 2
}
